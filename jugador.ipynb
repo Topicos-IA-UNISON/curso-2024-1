{
  "nbformat": 4,
  "nbformat_minor": 0,
  "metadata": {
    "colab": {
      "provenance": [],
      "authorship_tag": "ABX9TyOmXbBRIBAjtUZ6Xbjf32qe",
      "include_colab_link": true
    },
    "kernelspec": {
      "name": "python3",
      "display_name": "Python 3"
    },
    "language_info": {
      "name": "python"
    }
  },
  "cells": [
    {
      "cell_type": "markdown",
      "metadata": {
        "id": "view-in-github",
        "colab_type": "text"
      },
      "source": [
        "<a href=\"https://colab.research.google.com/github/Topicos-IA-UNISON/curso-2024-1/blob/main/jugador.ipynb\" target=\"_parent\"><img src=\"https://colab.research.google.com/assets/colab-badge.svg\" alt=\"Open In Colab\"/></a>"
      ]
    },
    {
      "cell_type": "markdown",
      "source": [
        "\n",
        "# Un ejemplito de programación dinámica\n",
        "\n",
        "## Tópicos Avanzados en Inteligencia Artificial (2024-1)\n",
        "\n",
        "### Licenciatura en Ciencia de la Computación\n",
        "\n",
        "![](https://identidadbuho.unison.mx/wp-content/uploads/2019/06/letragrama-cmyk-72.jpg)\n",
        "\n",
        "\n",
        "**Julio Waissman Vilanova**\n",
        "\n",
        "22 de enero de 2024"
      ],
      "metadata": {
        "id": "uu8gvqnweAMJ"
      }
    },
    {
      "cell_type": "code",
      "source": [
        "import random"
      ],
      "metadata": {
        "id": "EHgNUQ-fiTCy"
      },
      "execution_count": 1,
      "outputs": []
    },
    {
      "cell_type": "markdown",
      "source": [
        "### 1. Las clases y los algoritmos básicos"
      ],
      "metadata": {
        "id": "ui7iKphme4m0"
      }
    },
    {
      "cell_type": "code",
      "execution_count": 44,
      "metadata": {
        "id": "VxYalxi6d_KA"
      },
      "outputs": [],
      "source": [
        "class MDP(object):\n",
        "  \"\"\"\n",
        "  Clase de un problema de desición de markov (MDP)\n",
        "\n",
        "  Propiedades:\n",
        "    S: Conjunto de estados\n",
        "    A: Conjunto de acciones\n",
        "    gamma: Factor de descuento\n",
        "\n",
        "  Métodos:\n",
        "    a_legales(s) -> subconjunto de A\n",
        "    p(sp, s, a) -> float\n",
        "    r(s, a, sp) -> float\n",
        "    es_terminal(s) -> bool\n",
        "\n",
        "  \"\"\"\n",
        "\n",
        "  def __init__(self, S, A, gamma):\n",
        "    self.S = S\n",
        "    self.A = A\n",
        "    self.gamma = gamma\n",
        "\n",
        "  def a_legales(self, s):\n",
        "    acciones = [a for a in self.A]\n",
        "    return acciones\n",
        "\n",
        "  def p(self, sp, a, s):\n",
        "    raise NotImpementedError('Del prototipo, es necesario implenentar')\n",
        "\n",
        "  def r(self, s, a, sp):\n",
        "    raise NotImpementedError('Del prototipo, es necesario implenentar')\n",
        "\n",
        "  def es_terminal(self, s):\n",
        "    raise NotImpementedError('Del prototipo, es necesario implenentar')\n",
        "\n",
        "\n",
        "\n",
        "def iteración_de_valor(mdp, theta, max_it=1_000_000):\n",
        "\n",
        "  V = {s: 0.0 if mdp.es_terminal(s) else random.random() for s in mdp.S}\n",
        "\n",
        "  for _ in range(max_it):\n",
        "    delta = 0\n",
        "    for s in [state for state in mdp.S if not mdp.es_terminal(state)]:\n",
        "      v = V[s]\n",
        "      V[s] = max(\n",
        "          sum(\n",
        "              mdp.p(sp, s, a) * (mdp.r(s, a, sp) + mdp.gamma * V[sp])\n",
        "              for sp in mdp.S\n",
        "          )\n",
        "          for a in mdp.a_legales(s)\n",
        "      )\n",
        "      delta = max(delta, abs(v - V[s]))\n",
        "\n",
        "    if delta < theta:\n",
        "      break\n",
        "  return V\n",
        "\n",
        "def politica(mdp, V):\n",
        "  pi = {\n",
        "      s: max(\n",
        "          mdp.a_legales(s),\n",
        "          key=lambda a: sum(\n",
        "            mdp.p(sp, s, a) * (mdp.r(s, a, sp) + mdp.gamma * V[sp])\n",
        "            for sp in mdp.S\n",
        "          )\n",
        "      )\n",
        "      for s in mdp.S if not mdp.es_terminal(s)\n",
        "  }\n",
        "  return pi"
      ]
    },
    {
      "cell_type": "markdown",
      "source": [
        "## 2. El problema del jugador"
      ],
      "metadata": {
        "id": "UqJ8u3Y7nuF6"
      }
    },
    {
      "cell_type": "code",
      "source": [
        "class Jugador(MDP):\n",
        "  def __init__(self, rho):\n",
        "    self.S = list(range(101))\n",
        "    self.A = list(range(51))\n",
        "    self.gamma = 1.0\n",
        "    self.rho = rho\n",
        "\n",
        "  def a_legales(self, s):\n",
        "    return list(range(s))\n",
        "\n",
        "  def p(self, sp, a, s):\n",
        "    return (\n",
        "      self.rho if sp == s + a else\n",
        "      1.0 - self.rho if sp == s - a else\n",
        "      0\n",
        "    )\n",
        "\n",
        "  def r(self, s, a, sp):\n",
        "    return 100 if sp == 100 else 0\n",
        "\n",
        "  def es_terminal(self, s):\n",
        "    return s in [0, 100]\n"
      ],
      "metadata": {
        "id": "axxLjWb3nzdX"
      },
      "execution_count": 45,
      "outputs": []
    },
    {
      "cell_type": "code",
      "source": [
        "jugador = Jugador(0.4)\n",
        "\n",
        "v = iteración_de_valor(jugador, 0.001)\n",
        "pi = politica(jugador, v)\n",
        "\n",
        "v"
      ],
      "metadata": {
        "colab": {
          "base_uri": "https://localhost:8080/"
        },
        "id": "dhKJT85Iofq0",
        "outputId": "d4a29866-79b2-4b77-99af-5ae4a65f9acb"
      },
      "execution_count": 59,
      "outputs": [
        {
          "output_type": "execute_result",
          "data": {
            "text/plain": [
              "{0: 0.0,\n",
              " 1: 0.00018742496636303782,\n",
              " 2: 0.16384000000000007,\n",
              " 3: 0.40960000000000013,\n",
              " 4: 0.40960000000000013,\n",
              " 5: 1.0240000000000002,\n",
              " 6: 1.0240000000000002,\n",
              " 7: 1.0240000000000002,\n",
              " 8: 2.5600000000000005,\n",
              " 9: 2.5600000000000005,\n",
              " 10: 2.5600000000000005,\n",
              " 11: 2.5600000000000005,\n",
              " 12: 2.5600000000000005,\n",
              " 13: 2.5600000000000005,\n",
              " 14: 6.4,\n",
              " 15: 6.4,\n",
              " 16: 6.4,\n",
              " 17: 6.4,\n",
              " 18: 6.4,\n",
              " 19: 6.4,\n",
              " 20: 6.4,\n",
              " 21: 6.4,\n",
              " 22: 6.4,\n",
              " 23: 6.4,\n",
              " 24: 6.4,\n",
              " 25: 6.4,\n",
              " 26: 16.0,\n",
              " 27: 16.0,\n",
              " 28: 16.0,\n",
              " 29: 16.0,\n",
              " 30: 16.0,\n",
              " 31: 16.0,\n",
              " 32: 16.0,\n",
              " 33: 16.0,\n",
              " 34: 16.0,\n",
              " 35: 16.0,\n",
              " 36: 16.0,\n",
              " 37: 16.0,\n",
              " 38: 16.0,\n",
              " 39: 16.0,\n",
              " 40: 16.0,\n",
              " 41: 16.0,\n",
              " 42: 16.0,\n",
              " 43: 16.0,\n",
              " 44: 16.0,\n",
              " 45: 16.0,\n",
              " 46: 16.0,\n",
              " 47: 16.0,\n",
              " 48: 16.0,\n",
              " 49: 16.0,\n",
              " 50: 16.0,\n",
              " 51: 40.0,\n",
              " 52: 40.0,\n",
              " 53: 40.0,\n",
              " 54: 40.0,\n",
              " 55: 40.0,\n",
              " 56: 40.0,\n",
              " 57: 40.0,\n",
              " 58: 40.0,\n",
              " 59: 40.0,\n",
              " 60: 40.0,\n",
              " 61: 40.0,\n",
              " 62: 40.0,\n",
              " 63: 40.0,\n",
              " 64: 40.0,\n",
              " 65: 40.0,\n",
              " 66: 40.0,\n",
              " 67: 40.0,\n",
              " 68: 40.0,\n",
              " 69: 40.0,\n",
              " 70: 40.0,\n",
              " 71: 40.0,\n",
              " 72: 40.0,\n",
              " 73: 40.0,\n",
              " 74: 40.0,\n",
              " 75: 40.0,\n",
              " 76: 40.0,\n",
              " 77: 40.0,\n",
              " 78: 40.0,\n",
              " 79: 40.0,\n",
              " 80: 40.0,\n",
              " 81: 40.0,\n",
              " 82: 40.0,\n",
              " 83: 40.0,\n",
              " 84: 40.0,\n",
              " 85: 40.0,\n",
              " 86: 40.0,\n",
              " 87: 40.0,\n",
              " 88: 40.0,\n",
              " 89: 40.0,\n",
              " 90: 40.0,\n",
              " 91: 40.0,\n",
              " 92: 40.0,\n",
              " 93: 40.0,\n",
              " 94: 40.0,\n",
              " 95: 40.0,\n",
              " 96: 40.0,\n",
              " 97: 40.0,\n",
              " 98: 40.0,\n",
              " 99: 40.0,\n",
              " 100: 0.0}"
            ]
          },
          "metadata": {},
          "execution_count": 59
        }
      ]
    },
    {
      "cell_type": "code",
      "source": [
        "import numpy as np\n",
        "import matplotlib.pyplot as plt\n",
        "\n",
        "plt.plot(pi.keys(), pi.values())"
      ],
      "metadata": {
        "colab": {
          "base_uri": "https://localhost:8080/",
          "height": 447
        },
        "id": "tkRJEEEWuXCk",
        "outputId": "ce7446e7-b040-47fb-c1ec-5782d3514a4c"
      },
      "execution_count": 53,
      "outputs": [
        {
          "output_type": "execute_result",
          "data": {
            "text/plain": [
              "[<matplotlib.lines.Line2D at 0x7d7e39b68100>]"
            ]
          },
          "metadata": {},
          "execution_count": 53
        },
        {
          "output_type": "display_data",
          "data": {
            "text/plain": [
              "<Figure size 640x480 with 1 Axes>"
            ],
            "image/png": "[encoded data removed]"
          },
          "metadata": {}
        }
      ]
    }
  ]
}